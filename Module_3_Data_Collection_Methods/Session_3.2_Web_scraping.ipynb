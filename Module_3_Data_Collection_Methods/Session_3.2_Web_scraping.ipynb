{
 "cells": [
  {
   "cell_type": "markdown",
   "id": "26acf247",
   "metadata": {},
   "source": [
    "<img src='images/gesis.png' style='height: 60px; float: left'>\n",
    "<img src='images/social_comquant.png' style='height: 50px; float: left; margin-left: 40px'>\n",
    "<img src='images/isi.png' style='height: 50px; float: left; margin-left: 20px'>  "
   ]
  },
  {
   "cell_type": "markdown",
   "id": "237c8be6",
   "metadata": {},
   "source": [
    "Authors = \n",
    "\n",
    "Date = "
   ]
  },
  {
   "cell_type": "markdown",
   "id": "3cd4ea4a",
   "metadata": {},
   "source": [
    "# 1. Introduction\n",
    "\n",
    "Data collection is a procedure of gathering information from subjects (all relevant sources), measuring and analyzing accurate insights for research using various techniques. Researchers can evaluate their research questions and hypotheses on the basis of collected data. In most cases, data collection is the primary and most important step for research, irrespective of the field of study. The approach of data collection varies for different fields of study, depending on the required information.\n",
    "\n",
    "The internet is an absolutely massive source of data which we can access by various ways such as connecting APIs (see Teaching Module 3.1. API harvesting). In addtion to APIs, web scraping is often the only way we can access data that it is not available in convenient CSV exports or APIs. Websites are often valuable sources of data; for example, weather forecasts, comments on news sites, and posts on forums. To access those sorts of information on webpages, we will use web scraping.\n",
    "\n",
    "With this online module, we are going to show how to do web scraping with Python from scratch. Then, we will work through an actual web scraping project, focusing on ??? data."
   ]
  },
  {
   "cell_type": "markdown",
   "id": "66abdeec",
   "metadata": {},
   "source": [
    "# 2. Fundamentals of Web scarping"
   ]
  },
  {
   "cell_type": "markdown",
   "id": "c403de1f",
   "metadata": {},
   "source": [
    "<img src=\"./images/webscrape.png\"  width=\"350\" height = \"350\" align=\"center\"/>\n",
    "\n",
    "In order to access APIs, you first need to create an account and apply to have a developer account on the platform that you want to work on. With this developer account, platforms provide you KEYS (e.g., secret, public, or access) to authenticate their system.\n",
    "\n",
    "While web scraping is one of the common ways of collecting data from websites, a lot of websites offer APIs to access the public data that they host on their website. This is to avoid unnecessary traffic on the websites.\n",
    "\n",
    "However, even though we have access to these API, as researchers, we should not forget to respect API access rules and always read the documents before collecting data.\n",
    "\n",
    "\n"
   ]
  },
  {
   "cell_type": "markdown",
   "id": "d8f0bacd",
   "metadata": {},
   "source": [
    "## 2.0 Feed Parsing\n",
    "\n",
    "According to [Wikipedia](https://en.wikipedia.org/wiki/Web_feed), a web feed (or news feed) is a data format used for providing users with frequently updated content. Content distributors syndicate a web feed, thereby allowing users to subscribe a channel to it by adding the feed resource address to a news aggregator client (also called a feed reader or a news reader). Users typically subscribe to a feed by manually entering the URL of a feed or clicking a link in a web browser or by dragging the link from the web browser to the aggregator, thus \"RSS and Atom files provide news updates from a website in a simple form for your computer.\"\n",
    "\n",
    "Here we introduce [feedparser](https://pypi.org/project/feedparser/), a powerful python package for parsing RSS feeds. By providing the RSS feed link, we can get structured information in the form of python lists and dictionaries, which could then be used to extract the desired information in a simple and efficient way."
   ]
  },
  {
   "cell_type": "markdown",
   "id": "47cac09b",
   "metadata": {},
   "source": [
    "### 2.0.1 Getting started with feedparser\n",
    "\n",
    "\n",
    "You can easily install the feedparser package using pip command:\n",
    "\n",
    "\n"
   ]
  },
  {
   "cell_type": "code",
   "execution_count": null,
   "id": "c8541458",
   "metadata": {
    "scrolled": true
   },
   "outputs": [],
   "source": [
    "pip install feedparser"
   ]
  },
  {
   "cell_type": "markdown",
   "id": "91e145ad",
   "metadata": {},
   "source": [
    "As usual, we need to import the package in the first place:"
   ]
  },
  {
   "cell_type": "code",
   "execution_count": null,
   "id": "35773d8b",
   "metadata": {},
   "outputs": [],
   "source": [
    "import feedparser"
   ]
  },
  {
   "cell_type": "markdown",
   "id": "bb80565f",
   "metadata": {},
   "source": [
    "#### Parsing an RSS feed URL\n",
    "To parse an RSS feed link, you can simply use the **parse()** function from the feedparser package. It takes a string as argument, which could be a URL or the address to the file locally saved on the computer. Here we use CNN RSS as an example URL:"
   ]
  },
  {
   "cell_type": "code",
   "execution_count": null,
   "id": "23239687",
   "metadata": {},
   "outputs": [],
   "source": [
    "feed = feedparser.parse(\"https://www.voanews.com/api/zgvmqye_o_qv\")\n",
    "\n",
    "# You can try other news websites as well:\n",
    "\n",
    "# feed = feedparser.parse(\"https://www.aljazeera.com/xml/rss/all.xml\")\n",
    "# feed = feedparser.parse(\"http://rss.cnn.com/rss/edition_europe.rss\")\n",
    "\n",
    "feed"
   ]
  },
  {
   "cell_type": "markdown",
   "id": "34e431dc",
   "metadata": {},
   "source": [
    "Hint: You can try the following ways in order to get a website's RSS feed:\n",
    "\n",
    "- If the website is powered by Wordpress, you can do it by adding /feed/ at the end of its URL. Trying /rss/ is another option.\n",
    "<img src='images/rss_logo.png' style='height: 50px; float: right; margin-left: 50px' >\n",
    "- If you see the standard orange RSS logo, by simply clicking on it you will be taken to the website's RSS feed.\n",
    "- You can also use the page source: right click on the page and choose page source. In the new window, use ctrl+f and type in RSS. You’ll find the feed’s URL between the quotes after **href=**.\n",
    "\n",
    "The parse function fetches the feed from the provided URL, extracts the information in a systematic way and stores each piece in a structured format. At the high level, it returns a python dictionary with multiple keys and values, in which each value may contain python lists or other dictionaries. You can access the keys using the **keys()** function:"
   ]
  },
  {
   "cell_type": "code",
   "execution_count": null,
   "id": "ebd44f8f",
   "metadata": {},
   "outputs": [],
   "source": [
    "feed.keys()"
   ]
  },
  {
   "cell_type": "markdown",
   "id": "cb6810a7",
   "metadata": {},
   "source": [
    "Using these keys, we can access the more specific information that we want. The most common keys that can be used for extracting information are **entries** and **feed**."
   ]
  },
  {
   "cell_type": "markdown",
   "id": "2f0a7703",
   "metadata": {},
   "source": [
    "### 2.0.2 Extracting the contents from the feed\n",
    "We will start with the **entries** key. We can get the list of all the posts/podcasts/entries or any other form of content the feed is serving for, from the **entries** key in the dictionary. More information on other possible keys in the returned dictionary can be found [here](https://feedparser.readthedocs.io/en/latest/reference.html)."
   ]
  },
  {
   "cell_type": "code",
   "execution_count": null,
   "id": "d2fb01c0",
   "metadata": {},
   "outputs": [],
   "source": [
    "feed['entries']"
   ]
  },
  {
   "cell_type": "markdown",
   "id": "b524fd40",
   "metadata": {},
   "source": [
    "We can get the number of articles/entries using the **len()** function:"
   ]
  },
  {
   "cell_type": "code",
   "execution_count": null,
   "id": "6ab3a06d",
   "metadata": {},
   "outputs": [],
   "source": [
    "len(feed['entries'])"
   ]
  },
  {
   "cell_type": "markdown",
   "id": "a3f528aa",
   "metadata": {},
   "source": [
    "#### Getting details of the entries\n",
    "We can iterate over the items of the entries list and print them to get more details on each article:"
   ]
  },
  {
   "cell_type": "code",
   "execution_count": null,
   "id": "7fefd893",
   "metadata": {},
   "outputs": [],
   "source": [
    "for entry in feed['entries']:\n",
    "    print (entry)\n",
    "    print (\"\\n\")"
   ]
  },
  {
   "cell_type": "markdown",
   "id": "140dac73",
   "metadata": {},
   "source": [
    "As we can see, each entry in the list is a dictionary again, which has different key-value pairs like **title**, **summary**, **link**, etc. We can again use the **keys()** function in order to explore the keys of the new dictionary: "
   ]
  },
  {
   "cell_type": "code",
   "execution_count": null,
   "id": "e2c40680",
   "metadata": {
    "scrolled": true
   },
   "outputs": [],
   "source": [
    "feed['entries'][0].keys()"
   ]
  },
  {
   "cell_type": "markdown",
   "id": "105af85d",
   "metadata": {},
   "source": [
    "Now that we have all the keys associated with the entries, we can extract the specific information like title, author, and actual contents of the feed.\n",
    "Though this might not be the same for all RSS feeds, it might be very similar and a matter of using the right keyword for the associated keys in the list of dictionaries.\n",
    "\n",
    "Let's say, we want to print out the titles of all the entries in the feed. We can do that by iterating over the entries list and fetching the title from the iterator:"
   ]
  },
  {
   "cell_type": "code",
   "execution_count": null,
   "id": "ac8a49ee",
   "metadata": {},
   "outputs": [],
   "source": [
    "for entry in feed.entries:\n",
    "    print (entry.title)"
   ]
  },
  {
   "cell_type": "markdown",
   "id": "334eb28e",
   "metadata": {},
   "source": [
    "Similarly, we can get the links or the summaries of the entries using the link key in the dictionary:"
   ]
  },
  {
   "cell_type": "code",
   "execution_count": null,
   "id": "66fedfe6",
   "metadata": {
    "scrolled": false
   },
   "outputs": [],
   "source": [
    "for entry in feed.entries:\n",
    "    print (entry.link)\n",
    "    \n",
    "# for entry in feed.entries:\n",
    "#     print (entry.summary)"
   ]
  },
  {
   "cell_type": "markdown",
   "id": "89d0ff59",
   "metadata": {},
   "source": [
    "### 2.0.3 References:\n",
    "1. https://pypi.org/project/feedparser/\n",
    "2. https://rss.com/blog/find-rss-feed/#:~:text=Right%20click%20on%20the%20website's,between%20the%20quotes%20after%20href%3D.\n",
    "3. https://dev.to/mr_destructive/feedparser-python-package-for-reading-rss-feeds-5fnc"
   ]
  },
  {
   "cell_type": "code",
   "execution_count": 8,
   "id": "b5f0ca46",
   "metadata": {},
   "outputs": [],
   "source": [
    "from IPython.display import HTML"
   ]
  },
  {
   "cell_type": "markdown",
   "id": "d09370b8",
   "metadata": {},
   "source": [
    "## 2.1. HTML for Web Scraping\n",
    "\n",
    "<img src='images/html.png' style='height: 90px; float: right; margin-left: 50px' >\n",
    "\n",
    "The **HyperText Markup Language** or **HTML** is the standard markup language for documents designed to be \n",
    "displayed in a web browser. It can be assisted by technologies such as Cascading Style Sheets (CSS) and scripting languages such as JavaScript. While the main content of the web pages are in the form of HTML, CSS add styling to the pages to make them look nicer and JavaScript files add interactivity to them.\n",
    "\n",
    "\n",
    "HTML code consists of a series of **elements**, and these elements tell the browser how to display the content. For collecting data from HTML web pages, it's necessary to have an idea of how this element syntax works.\n",
    "\n",
    "## 2.2. HTML Element Syntax\n",
    "\n",
    "HTML language can be applied to pieces of text to give them different meanings in a document (Is it a paragraph? Is it a bulleted list? Is it part of a table?), structure a document into logical sections (Does it have a header? Three columns of content? A navigation menu?), and embed content such as images and videos into a page. In this section we will introduce the first two of these, together with the fundamental concepts and syntax you need to know to understand HTML.\n",
    "\n",
    "To get started, we will begin with defining elements, attributes, and some other important terms. We will also explain where these fit into HTML. You will learn how HTML elements are structured, how a typical HTML page is structured, and other important basic language features.\n",
    "\n",
    "As already mentioned, HTML is a markup language that tells web browsers how to structure the web pages you visit. It can be as complicated or as simple as the web developer wants it to be. HTML consists of a series of elements, which you use to enclose, wrap, or mark up different parts of content to make it appear or act in a certain way. The enclosing tags can make content into a hyperlink to connect to another page, italicize words, and so on. For example, consider the following line of text:\n",
    "\n",
    "`My cat is very grumpy`\n",
    "\n",
    "If we wanted the text to stand by itself, we could specify that it is a paragraph by enclosing it in a paragraph (`<p>`) element:\n",
    "\n",
    "`<p>My cat is very grumpy</p>`\n",
    "\n",
    "<font color='darkblue'>**Note**: Tags in HTML are not case-sensitive, but it's better to write all of them in lower case for the sake of consistency and readability.\n",
    "</font>\n",
    "\n",
    "###  Anatomy of an HTML element\n",
    "\n",
    "Let's further explore our paragraph element mentioned above:\n",
    "\n",
    "<img src='images/html4.png' width=\"500\" height=\"400\" align=\"center\"/>\n",
    "\n",
    "The anatomy of our element is:\n",
    "\n",
    "- **The opening tag**: This consists of the name of the element (in this example, p for paragraph), wrapped in opening and closing angle brackets. This opening tag marks where the element begins or starts to take effect. In this example, it precedes the start of the paragraph text.\n",
    "\n",
    "\n",
    "- **The content**: This is the content of the element. In this example, it is the paragraph text.\n",
    "\n",
    "\n",
    "- **The closing tag**: This is the same as the opening tag, except that it includes a forward slash before the element name. This marks where the element ends. Failing to include a closing tag is a common beginner error that can produce peculiar results.\n",
    "\n",
    "So, *the element* is the opening tag, followed by content, followed by the closing tag.\n",
    "\n",
    "**Create your first HTML element:**  Edit the `html` string below (it contains an HTML code) and get the actual rendered HTML output from the `HTML()` function. You can wrap the text of your choice with the tags `<em>` and `</em>`. Doing this should give the line italic text formatting."
   ]
  },
  {
   "cell_type": "code",
   "execution_count": 9,
   "id": "596764a0",
   "metadata": {},
   "outputs": [
    {
     "data": {
      "text/html": [
       "<em>This is my text.</em>"
      ],
      "text/plain": [
       "<IPython.core.display.HTML object>"
      ]
     },
     "execution_count": 9,
     "metadata": {},
     "output_type": "execute_result"
    }
   ],
   "source": [
    "html = \"<em>This is my text.</em>\"\n",
    "HTML(html)"
   ]
  },
  {
   "cell_type": "markdown",
   "id": "54a452d1",
   "metadata": {},
   "source": [
    "### Nesting elements\n",
    "\n",
    "Elements can be placed within other elements. This is called *nesting*. If we wanted to state that our cat is **very** grumpy, we could wrap the word \"very\" in a `<strong>` element, which means that the word is to have strong(er) text formatting:\n",
    "\n",
    "`<p>My cat is <strong>very</strong> grumpy.</p>`\n",
    "\n",
    "There is a right and wrong way to do nesting. In the example above, we opened the `p` element first, then opened the `strong` element. For proper nesting, we should close the `strong` element first, before closing the `p`.\n",
    "The following is an example of the *wrong* way to do nesting:\n",
    "\n",
    "`<p>My cat is <strong>very grumpy.</p></strong>`\n",
    "\n",
    "<u>The tags have to open and close in a way that they are inside or outside one another.</u> With the kind of overlap in the example above, the browser has to guess at your intent. This kind of guessing can lead to unexpected results.\n",
    "\n",
    "### Block versus inline elements\n",
    "\n",
    "There are two important categories of elements to know in HTML: block-level elements and inline elements.\n",
    "\n",
    "- Block-level elements form a visible block on a page. A block-level element appears on a new line following the content that precedes it. Any content that follows a block-level element also appears on a new line. Block-level elements are usually structural elements on the page. For example, a block-level element might represent headings, paragraphs, lists, navigation menus, or footers. A block-level element wouldn't be nested inside an inline element, but it might be nested inside another block-level element.\n",
    "\n",
    "\n",
    "- Inline elements are contained within block-level elements, and surround only small parts of the document's content (not entire paragraphs or groupings of content). An inline element will not cause a new line to appear in the document. It is typically used with text, for example an `<a>` element creates a hyperlink, and elements such as `<em>` or `<strong>` create emphasis.\n",
    "\n",
    "Consider the following example:\n",
    "\n",
    "`<em>first</em><em>second</em><em>third</em>`\n",
    "\n",
    "`<p>fourth</p><p>fifth</p><p>sixth</p>`\n",
    "\n",
    "`<em>` is an inline element. As you can see below, the first three elements sit on the same line, with no space in between. On the other hand, `<p>` is a block-level element. Each p element appears on a new line, with space above and below. (The spacing is due to default CSS styling that the browser applies to paragraphs.)"
   ]
  },
  {
   "cell_type": "code",
   "execution_count": 10,
   "id": "554ec810",
   "metadata": {},
   "outputs": [
    {
     "data": {
      "text/html": [
       "<em>first</em><em>second</em><em>third</em>"
      ],
      "text/plain": [
       "<IPython.core.display.HTML object>"
      ]
     },
     "execution_count": 10,
     "metadata": {},
     "output_type": "execute_result"
    }
   ],
   "source": [
    "HTML(\"<em>first</em><em>second</em><em>third</em>\")"
   ]
  },
  {
   "cell_type": "code",
   "execution_count": 14,
   "id": "bd38d21c",
   "metadata": {},
   "outputs": [
    {
     "data": {
      "text/html": [
       "<p>fourth</p><p>fifth</p><p>sixth</p>"
      ],
      "text/plain": [
       "<IPython.core.display.HTML object>"
      ]
     },
     "execution_count": 14,
     "metadata": {},
     "output_type": "execute_result"
    }
   ],
   "source": [
    "HTML(\"<p>fourth</p><p>fifth</p><p>sixth</p>\")"
   ]
  },
  {
   "cell_type": "markdown",
   "id": "27958786",
   "metadata": {},
   "source": [
    "### Empty elements\n",
    "\n",
    "Not all elements follow the pattern of an opening tag, content, and a closing tag. Some elements consist of a single tag, which is typically used to insert/embed something in the document. For example, the `<img>` element embeds an image file onto a page:\n",
    "\n",
    "`<img src=\"https://raw.githubusercontent.com/mdn/beginner-html-site/gh-pages/images/firefox-icon.png\">`\n",
    "\n",
    "This would output the following:"
   ]
  },
  {
   "cell_type": "code",
   "execution_count": 15,
   "id": "1b04245c",
   "metadata": {},
   "outputs": [
    {
     "data": {
      "text/html": [
       "<img src=\"https://raw.githubusercontent.com/mdn/beginner-html-site/gh-pages/images/firefox-icon.png\">"
      ],
      "text/plain": [
       "<IPython.core.display.HTML object>"
      ]
     },
     "execution_count": 15,
     "metadata": {},
     "output_type": "execute_result"
    }
   ],
   "source": [
    "HTML('<img src=\"https://raw.githubusercontent.com/mdn/beginner-html-site/gh-pages/images/firefox-icon.png\">')"
   ]
  },
  {
   "cell_type": "markdown",
   "id": "8e23fd2f",
   "metadata": {},
   "source": [
    "### Attributes\n",
    "\n",
    "Elements can also have attributes. Attributes look like this:\n",
    "\n",
    "<img src='images/html5.png' width=\"800\" height=\"400\" align=\"center\"/>\n",
    "\n",
    "Attributes contain extra information about the element that won't appear in the content. In this example, the `class` attribute is an identifying name used to target the element with style information.\n",
    "\n",
    "An attribute should have:\n",
    "\n",
    "- A space between it and the element name. (For an element with more than one attribute, the attributes should be separated by spaces too.)\n",
    "- The attribute name, followed by an equal sign.\n",
    "- An attribute value, wrapped with opening and closing quote marks.\n",
    "\n",
    "**Adding attributes to an element**: Another example of an element is `<a>`. This stands for *anchor*. An anchor can make the text it encloses into a hyperlink. Anchors can take a number of attributes, but several are as follows:\n",
    "\n",
    "- `href`: This attribute's value specifies the web address for the link. For example: `href=\"https://www.mozilla.org/\"`\n",
    "- `title`: The `title` attribute specifies extra information about the link, such as a description of the page that is being linked to. For example, `title=\"The Mozilla homepage\"`. This appears as a tooltip when a cursor hovers over the element.\n",
    "- `target`: The `target` attribute specifies the browsing context used to display the link. For example, `target=\"_blank\"` will display the link in a new tab. If you want to display the linked content in the current tab, just omit this attribute.\n",
    "\n",
    "You can edit the `html` string below to turn it into a link to your favorite website:"
   ]
  },
  {
   "cell_type": "code",
   "execution_count": 16,
   "id": "fa22ad75",
   "metadata": {},
   "outputs": [
    {
     "data": {
      "text/html": [
       "<p>A link to my <a href=\"https://www.mozilla.org/\" title=\"The Mozilla homepage\" target=\"_blank\">favorite website</a>.</p>"
      ],
      "text/plain": [
       "<IPython.core.display.HTML object>"
      ]
     },
     "execution_count": 16,
     "metadata": {},
     "output_type": "execute_result"
    }
   ],
   "source": [
    "html = '<p>A link to my <a href=\"https://www.mozilla.org/\" title=\"The Mozilla homepage\" target=\"_blank\">favorite website</a>.</p>'\n",
    "HTML(html)"
   ]
  },
  {
   "cell_type": "markdown",
   "id": "430d6efa",
   "metadata": {},
   "source": [
    "### Anatomy of an HTML document\n",
    "\n",
    "Individual HTML elements aren't very useful on their own. Next, let's examine how individual elements combine to form an entire HTML page:\n",
    "\n",
    "```\n",
    "<!DOCTYPE html>\n",
    "<html lang=\"en-US\">\n",
    "  <head>\n",
    "    <meta charset=\"utf-8\">\n",
    "    <title>My test page</title>\n",
    "  </head>\n",
    "  <body>\n",
    "    <p>This is my page</p>\n",
    "  </body>\n",
    "</html>\n",
    "```\n",
    "\n",
    "Here we have:\n",
    "\n",
    "1. `<!DOCTYPE html>`: The doctype. When HTML was young (1991-1992), doctypes were meant to act as links to a set of rules that the HTML page had to follow to be considered good HTML. More recently, the doctype is a historical artifact that needs to be included for everything else to work right. `<!DOCTYPE html>` is the shortest string of characters that counts as a valid doctype. That is all you need to know!\n",
    "\n",
    "\n",
    "2. `<html></html>`: The `<html>` element. This element wraps all the content on the page. It is sometimes known as the root element.\n",
    "\n",
    "\n",
    "3. `<head></head>`: The `<head>` element. This element acts as a container for everything you want to include on the HTML page, **that isn't the content** the page will show to viewers. This includes keywords and a page description that would appear in search results, CSS to style content, character set declarations, and more. You will learn more about this in the next article of the series.\n",
    "\n",
    "\n",
    "4. `<meta charset=\"utf-8\">`: The `<meta>` element. This element represents metadata that cannot be represented by other HTML meta-related elements, like `<base>`, `<link>`, `<script>`, `<style>` or `<title>`. The charset attributes sets the character set for your document to UTF-8, which includes most characters from the vast majority of human written languages. With this setting, the page can now handle any textual content it might contain. There is no reason not to set this, and it can help avoid some problems later.\n",
    "\n",
    "\n",
    "5. `<title></title>`: The `<title>` element. This sets the title of the page, which is the title that appears in the browser tab the page is loaded in. The page title is also used to describe the page when it is bookmarked.\n",
    "\n",
    "\n",
    "6. `<body></body>`: The `<body>` element. This contains all the content that displays on the page, including text, images, videos, games, playable audio tracks, or whatever else.\n",
    "\n",
    "Later in this notebook, you will get to explore HTML codes in more details.\n",
    "\n",
    "### Reference:\n",
    "https://developer.mozilla.org/en-US/docs/Learn/HTML/Introduction_to_HTML"
   ]
  },
  {
   "cell_type": "markdown",
   "id": "b6b11b87",
   "metadata": {},
   "source": [
    "## 2.3 HTML Tree Structure\n",
    "\n",
    "Each HTML document can actually be referred to as a document tree. We describe the elements in the tree like we would describe a family tree. There are ancestors, descendants, parents, children and siblings.\n",
    "\n",
    "Use the sample HTML document below for the following examples. The `<head>` section of the document is omitted for brevity.\n",
    "\n",
    "```\n",
    "<body>\n",
    "\n",
    "  <div id=\"content\">\n",
    "    <h1>Heading here</h1>\n",
    "    <p>Lorem ipsum dolor sit amet.</p>\n",
    "    <p>Lorem ipsum dolor <em>sit</em> amet.</p>\n",
    "    <hr>\n",
    "  </div>\n",
    "  \n",
    "  <div id=\"nav\">\n",
    "    <ul>\n",
    "      <li>item 1</li>\n",
    "      <li>item 2</li>\n",
    "      <li>item 3</li>\n",
    "    </ul>\n",
    "  </div>\n",
    "\n",
    "</body>\n",
    "```\n",
    "\n",
    "A diagram of the above HTML document tree would look like this:\n",
    "\n",
    "<img src='images/tree1.gif' width=\"435\" height=\"400\" align=\"center\"/>\n",
    "\n",
    "### Ancestor\n",
    "\n",
    "An ancestor refers to any element that is connected but further up the document tree - no matter how many levels higher.\n",
    "\n",
    "In the diagram below, the `<body>` element is the ancestor of all other elements on the page.\n",
    "\n",
    "<img src='images/tree_ancestor.gif' width=\"435\" height=\"400\" align=\"center\"/>\n",
    "\n",
    "### Descendant\n",
    "\n",
    "A descendant refers to any element that is connected but lower down the document tree - no matter how many levels lower.\n",
    "In the diagram below, all elements that are connected below the `<div>` element are descendants of that `<div>`.\n",
    "\n",
    "<img src='images/tree_descendant.gif' width=\"435\" height=\"400\" align=\"center\"/>\n",
    "\n",
    "### Parent and Child\n",
    "\n",
    "A parent is an element that is directly above and connected to an element in the document tree. In the diagram below, the `<div>` is a parent to the `<ul>`.\n",
    "\n",
    "A child is an element that is directly below and connected to an element in the document tree. In the diagram above, the `<ul>` is a child to the `<div>`.\n",
    "\n",
    "<img src='images/tree_parent.gif' width=\"435\" height=\"400\" align=\"center\"/>\n",
    "\n",
    "### Sibling\n",
    "\n",
    "A sibling is an element that shares the same parent with another element.\n",
    "\n",
    "In the diagram below, the `<li>`s are siblings as they all share the same parent - the `<ul>`.\n",
    "\n",
    "<img src='images/tree_siblings.gif' width=\"435\" height=\"400\" align=\"center\"/>\n",
    "\n",
    "### Reference:\n",
    "http://web.simmons.edu/~grabiner/comm244/weekfour/document-tree.html"
   ]
  },
  {
   "cell_type": "markdown",
   "id": "2e0d8559",
   "metadata": {},
   "source": [
    "# 3. Beautiful Soup"
   ]
  },
  {
   "cell_type": "code",
   "execution_count": null,
   "id": "193473b9",
   "metadata": {},
   "outputs": [],
   "source": [
    "cite''' \n",
    "    Let's get started with our first project with Beautiful Soup.\n",
    "    Import libraries if you install them before.\n",
    "    If you have not installed them, then install with pip on your command prompt or your jupyter notebook with !pip.\n",
    "'''\n",
    "# import relevant packages\n",
    "# Makes the plots appear within the notebook\n",
    "%matplotlib inline \n",
    "\n",
    "# Two fundamental packages for doing data manipulation\n",
    "import numpy as np                   # http://www.numpy.org/\n",
    "import pandas as pd                  # http://pandas.pydata.org/\n",
    "\n",
    "#  for plotting data\n",
    "import matplotlib.pyplot as plt      # http://matplotlib.org/\n",
    "\n",
    "# Package to save/load Python structures in the \"Pickle\" format\n",
    "import pickle\n",
    "\n",
    "# Package query and download from web resources! Alternatives: URLlib2, URLlib3\n",
    "import requests\n",
    "\n",
    "# If you want HTML to make sense, you need soup\n",
    "from bs4 import BeautifulSoup\n",
    "\n",
    "# Some setup for display, helper libs, etc.\n",
    "from copy import deepcopy\n",
    "pd.options.display.max_columns = 100\n",
    "pd.options.display.max_rows = 110\n",
    "pd.options.mode.chained_assignment = None \n",
    "# Please make sure you have installed all of these libraries!"
   ]
  },
  {
   "cell_type": "markdown",
   "id": "6182d3a1",
   "metadata": {},
   "source": [
    "<img src=\"./images/selenium.png\"  width=\"50\" height = \"50\" align=\"left\"/> \n",
    "\n",
    "# 4. Selenium \n",
    "\n"
   ]
  },
  {
   "cell_type": "markdown",
   "id": "56c76de5",
   "metadata": {},
   "source": [
    "# 5. Scrapy\n"
   ]
  },
  {
   "cell_type": "markdown",
   "id": "425df720",
   "metadata": {},
   "source": [
    "# 6. Challanges\n",
    "\n"
   ]
  },
  {
   "cell_type": "markdown",
   "id": "3fe29c81",
   "metadata": {},
   "source": [
    "# 7. References\n",
    "\n",
    "https://www.crummy.com/software/BeautifulSoup/bs4/doc/\n",
    "\n",
    "https://www.dataquest.io/blog/web-scraping-python-using-beautiful-soup/#tve-jump-1788432a71d\n",
    "\n",
    "https://developer.mozilla.org/en-US/docs/Web/HTML/Element\n",
    "\n",
    "https://medium.com/geekculture/web-scraping-cheat-sheet-2021-python-for-web-scraping-cad1540ce21c#b81d\n",
    "\n",
    "https://trends.google.com/trends/yis/2021/DE/\n",
    "\n",
    "https://blog.google/products/search/15-tips-getting-most-out-google-trends/\n",
    "\n",
    "\n",
    "Do not miss checking out the Social Comquant Workshop 10 at: https://github.com/strohne/autocol\n"
   ]
  }
 ],
 "metadata": {
  "kernelspec": {
   "display_name": "Python 3",
   "language": "python",
   "name": "python3"
  },
  "language_info": {
   "codemirror_mode": {
    "name": "ipython",
    "version": 3
   },
   "file_extension": ".py",
   "mimetype": "text/x-python",
   "name": "python",
   "nbconvert_exporter": "python",
   "pygments_lexer": "ipython3",
   "version": "3.8.5"
  }
 },
 "nbformat": 4,
 "nbformat_minor": 5
}
